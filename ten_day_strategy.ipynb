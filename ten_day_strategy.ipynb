{
 "cells": [
  {
   "cell_type": "code",
   "execution_count": 1,
   "id": "a7878ccc",
   "metadata": {},
   "outputs": [],
   "source": [
    "from bs4 import BeautifulSoup\n",
    "import requests\n",
    "import pandas as pd\n",
    "from random import choices, sample\n",
    "import matplotlib.pyplot as plt\n",
    "from IPython.display import clear_output\n",
    "import os"
   ]
  },
  {
   "cell_type": "code",
   "execution_count": 2,
   "id": "d83d908e",
   "metadata": {},
   "outputs": [],
   "source": [
    "def return_stat(df, start, period):\n",
    "    end = start - period\n",
    "    filt = (df['Date'].max() - df['Date'] <= pd.Timedelta(days = 30 * (start))) & (df['Date'].max() - df['Date'] >= pd.Timedelta(days = (end) * 30))\n",
    "    one_month = df.loc[filt]\n",
    "    if one_month.shape[0] < 2:\n",
    "        return (None, None)\n",
    "    volatility = one_month['Close'].std()\n",
    "    if volatility < 0.00001:\n",
    "        return (None, None)\n",
    "    return_ = (one_month['Close'].iloc[-1] - one_month['Close'].iloc[0])/one_month['Close'].iloc[0]*100 \n",
    "    sharpe_ratio = return_/volatility\n",
    "    return (return_, sharpe_ratio)"
   ]
  },
  {
   "cell_type": "code",
   "execution_count": 3,
   "id": "83afc3fb",
   "metadata": {},
   "outputs": [],
   "source": [
    "def cum_daily_returns(df, start):\n",
    "    filt = (df['Date'].max() - df['Date'] <= pd.Timedelta(days = 30 * (start))) \\\n",
    "        & (df['Date'].max() - df['Date'] >= pd.Timedelta(days = (start - 1) * 30))\n",
    "    one_month = df.loc[filt]\n",
    "    if one_month.shape[0] < 2:\n",
    "        return []\n",
    "    volatility = one_month['Close'].std()\n",
    "    if volatility < 0.00001:\n",
    "        return []\n",
    "    daily_returns = []\n",
    "    for i in range(len(one_month)):\n",
    "        daily_returns.append((one_month['Close'].iloc[i] - one_month['Close'].iloc[0])/one_month['Close'].iloc[0]*100 )\n",
    "    return daily_returns"
   ]
  },
  {
   "cell_type": "code",
   "execution_count": 4,
   "id": "3e0ece33",
   "metadata": {},
   "outputs": [],
   "source": [
    "def last_ten_days(df, start):\n",
    "    filt = (df['Date'].max() - df['Date'] <= pd.Timedelta(days = 30 * (start) + 10)) & (df['Date'].max() - df['Date'] >= pd.Timedelta(days = (start) * 30))\n",
    "    ten_days = df.loc[filt]\n",
    "    if ten_days.shape[0] < 2:\n",
    "        return (None, None)\n",
    "    volatility = ten_days['Close'].std()\n",
    "    if volatility < 0.00001:\n",
    "        return (None, None)\n",
    "    return_ = (ten_days['Close'].iloc[-1] - ten_days['Close'].iloc[0])/ten_days['Close'].iloc[0]*100 \n",
    "    sharpe_ratio = return_/volatility\n",
    "    return (return_, sharpe_ratio)"
   ]
  },
  {
   "cell_type": "code",
   "execution_count": 5,
   "id": "b75c5225",
   "metadata": {},
   "outputs": [],
   "source": [
    "# Filters\n",
    "def is_legit(df):\n",
    "    dates = pd.to_datetime(df['Date']).tolist()\n",
    "#     print(dates[-1].month)\n",
    "#     is_recent = (dates[-1].month == pd.Timestamp.today().month)\n",
    "    is_recent = (dates[-1].month == 3)\n",
    "    in_business = (df.iloc[:-100]['Volume'].mean() > 1000)\n",
    "    return is_recent and in_business"
   ]
  },
  {
   "cell_type": "code",
   "execution_count": 6,
   "id": "ea8a4c62",
   "metadata": {},
   "outputs": [],
   "source": [
    "r = requests.get('https://scanner.tradingview.com/america/scan')\n",
    "soup = BeautifulSoup(r.text, 'lxml')\n",
    "\n",
    "ticker_list = soup.p.text\n",
    "\n",
    "ticker_list = ticker_list.split('\"s\":')\n",
    "ticker_list = [x.split(',')[0].lstrip('\"').rstrip('\"') for x in ticker_list[1:]]\n",
    "ticker_list = [x.split(':')[1] for x in ticker_list]\n",
    "ticker_list = sorted(ticker_list)\n",
    "ticker_list = [x.replace('/','-') for x in ticker_list]"
   ]
  },
  {
   "cell_type": "code",
   "execution_count": 6,
   "id": "c775a1fd",
   "metadata": {},
   "outputs": [
    {
     "name": "stdout",
     "output_type": "stream",
     "text": [
      "0% completed ...\n",
      "5% completed ...\n",
      "10% completed ...\n",
      "16% completed ...\n",
      "21% completed ...\n",
      "27% completed ...\n",
      "32% completed ...\n",
      "37% completed ...\n",
      "43% completed ...\n",
      "48% completed ...\n",
      "54% completed ...\n",
      "59% completed ...\n",
      "64% completed ...\n",
      "70% completed ...\n",
      "75% completed ...\n",
      "81% completed ...\n",
      "86% completed ...\n",
      "92% completed ...\n",
      "97% completed ...\n",
      "Finished\n",
      "\n",
      " Number of tickers: 15780\n"
     ]
    }
   ],
   "source": [
    "# Dictionary of stock data\n",
    "ticker_dict={}\n",
    "files = os.listdir('Stock data/')\n",
    "ticker_list = [file.split('.')[0] for file in files]\n",
    "n_stocks = len(ticker_list)\n",
    "for counter, ticker in enumerate(ticker_list):\n",
    "    if counter % 1000 == 0:\n",
    "        print(f'{int(counter/n_stocks*100)}% completed ...')\n",
    "    try:\n",
    "        df = pd.read_csv(f'Stock data/{ticker}.csv')\n",
    "#         print(ticker)\n",
    "        if is_legit(df):\n",
    "            ticker_dict[ticker] = df\n",
    "    except:\n",
    "        continue\n",
    "#     if is_legit(df):\n",
    "#         ticker_dict[ticker] = df\n",
    "print('Finished')\n",
    "print(f'\\n Number of tickers: {len(ticker_dict)}')"
   ]
  },
  {
   "cell_type": "code",
   "execution_count": null,
   "id": "2fdcce00",
   "metadata": {},
   "outputs": [
    {
     "name": "stdout",
     "output_type": "stream",
     "text": [
      "Month: 14\n",
      "---------------\n",
      "Max Net return: 2.9665472824106613\n",
      "Expected return: -2.6645080365156506\n",
      "---------------\n",
      "\n",
      "Month: 15\n",
      "---------------\n",
      "Max Net return: 5.004174178160428\n",
      "Expected return: 0.1682326819127675\n",
      "---------------\n",
      "\n",
      "Month: 16\n",
      "---------------\n",
      "Max Net return: 9.649960334740616\n",
      "Expected return: 0.04048847652146148\n",
      "---------------\n",
      "\n"
     ]
    },
    {
     "name": "stderr",
     "output_type": "stream",
     "text": [
      "C:\\Users\\rajor\\AppData\\Local\\Temp\\ipykernel_95064\\1324193203.py:10: RuntimeWarning: divide by zero encountered in scalar divide\n",
      "  return_ = (one_month['Close'].iloc[-1] - one_month['Close'].iloc[0])/one_month['Close'].iloc[0]*100\n"
     ]
    },
    {
     "name": "stdout",
     "output_type": "stream",
     "text": [
      "Month: 17\n",
      "---------------\n",
      "Max Net return: 1.9464747949197474\n",
      "Expected return: -3.9141733805023438\n",
      "---------------\n",
      "\n"
     ]
    },
    {
     "name": "stderr",
     "output_type": "stream",
     "text": [
      "C:\\Users\\rajor\\AppData\\Local\\Temp\\ipykernel_95064\\1324193203.py:10: RuntimeWarning: divide by zero encountered in scalar divide\n",
      "  return_ = (one_month['Close'].iloc[-1] - one_month['Close'].iloc[0])/one_month['Close'].iloc[0]*100\n",
      "C:\\Users\\rajor\\AppData\\Local\\Temp\\ipykernel_95064\\1550789389.py:12: RuntimeWarning: invalid value encountered in scalar divide\n",
      "  daily_returns.append((one_month['Close'].iloc[i] - one_month['Close'].iloc[0])/one_month['Close'].iloc[0]*100 )\n",
      "C:\\Users\\rajor\\AppData\\Local\\Temp\\ipykernel_95064\\1550789389.py:12: RuntimeWarning: divide by zero encountered in scalar divide\n",
      "  daily_returns.append((one_month['Close'].iloc[i] - one_month['Close'].iloc[0])/one_month['Close'].iloc[0]*100 )\n"
     ]
    },
    {
     "name": "stdout",
     "output_type": "stream",
     "text": [
      "Month: 18\n",
      "---------------\n",
      "Max Net return: 11.494780855074376\n",
      "Expected return: 5.732758980035369\n",
      "---------------\n",
      "\n",
      "Month: 19\n",
      "---------------\n",
      "Max Net return: 2.735365120061069\n",
      "Expected return: -1.1454376087452736\n",
      "---------------\n",
      "\n",
      "Month: 20\n",
      "---------------\n",
      "Max Net return: 10.189807347833042\n",
      "Expected return: 4.591125742793942\n",
      "---------------\n",
      "\n",
      "Month: 21\n",
      "---------------\n",
      "Max Net return: 3.2721892112127935\n",
      "Expected return: -0.6937544631886806\n",
      "---------------\n",
      "\n",
      "Month: 22\n",
      "---------------\n",
      "Max Net return: 1.1414292232168108\n",
      "Expected return: -1.897912900603369\n",
      "---------------\n",
      "\n",
      "Month: 23\n",
      "---------------\n",
      "Max Net return: 20.5040476855259\n",
      "Expected return: 12.775438817360111\n",
      "---------------\n",
      "\n"
     ]
    }
   ],
   "source": [
    "# Backtesting strategy\n",
    "expected_annual_return = 0\n",
    "for month in range(14, 26):\n",
    "    summary = pd.DataFrame(columns = ['Ticker', 'SR_10d', 'Return_10d', 'SR_1m', 'Return_1m', 'SR_1m_recent', 'Return_1m_recent', 'Max_1m_recent'])\n",
    "    mths = month\n",
    "    n_stocks = len(ticker_dict)\n",
    "    sample_size = 30\n",
    "    for ticker, df in ticker_dict.items():\n",
    "        if df.shape[0]<2:\n",
    "            continue\n",
    "        df['Date'] = pd.to_datetime(df['Date'])\n",
    "        (ten_day_return, ten_day_SR) = last_ten_days(df,mths - 1)\n",
    "        (one_month_return, one_month_SR) = return_stat(df,mths, 1)\n",
    "        (one_month_return_recent, one_month_SR_recent) = return_stat(df,mths - 1, 1)\n",
    "        daily_returns = cum_daily_returns(df, mths - 1)\n",
    "        if len(daily_returns) > 0:\n",
    "            max_daily_returns = max(daily_returns)\n",
    "        else:\n",
    "            max_daily_returns = None    \n",
    "        summary.loc[summary.shape[0]] = [ticker, ten_day_SR, ten_day_return, one_month_SR,  \\\n",
    "                                         one_month_return, one_month_SR_recent,  one_month_return_recent, max_daily_returns]\n",
    "        \n",
    "    analysis_test = summary.dropna().sort_values('Return_10d', ascending = False)\n",
    "    filt = (analysis_test['SR_1m'].abs() <= 10) & (analysis_test['SR_1m'].abs() > 0) & (analysis_test['Return_10d'] > 0) \n",
    "    filtered_df = analysis_test.loc[filt]\n",
    "    # print(filtered_df.head(50))\n",
    "    list_of_indices = list(filtered_df.index)\n",
    "\n",
    "    max_return_list = []\n",
    "    net_return_list = []\n",
    "    success_rate_list = []\n",
    "\n",
    "    for _ in range(100):\n",
    "        sampled_list = sample(list_of_indices[:100], k = sample_size)\n",
    "    #     sampled_list = list_of_indices[:30]\n",
    "        sampled_stock_list = filtered_df.loc[sampled_list].sort_values('Return_10d', ascending = False)\n",
    "\n",
    "\n",
    "        num_success = len(sampled_stock_list.loc[(sampled_stock_list['Return_1m_recent'] >= 0)])\n",
    "        total = len(sampled_stock_list)\n",
    "        success_pc = num_success/total*100\n",
    "        returns_list = sampled_stock_list['Return_1m_recent'].to_list()\n",
    "        returns_list = [return_ if return_> -10 else -10 for return_ in returns_list  ]\n",
    "        max_return = max(returns_list)\n",
    "        return_net = sum(returns_list)/sample_size\n",
    "        success_rate_list.append(success_pc)\n",
    "        max_return_list.append(max_return)\n",
    "        net_return_list.append(return_net)\n",
    "\n",
    "    #     print(f'Max return: {max_return}')\n",
    "    #     print(f'Net return: {return_net}')\n",
    "    #     print(f'Success rate: {success_pc}')\n",
    "    # plt.plot(max_return_list)\n",
    "#     print(sampled_stock_list)\n",
    "#     plt.plot(net_return_list)\n",
    "#     plt.plot(success_rate_list)\n",
    "#     plt.legend(['Net return', 'Success rate'])\n",
    "\n",
    "    expected_return = sum(net_return_list)/100\n",
    "    expected_annual_return += expected_return\n",
    "    max_net_return = max(net_return_list)\n",
    "    print(f'Month: {month}\\n---------------')\n",
    "    print(f'Max Net return: {max_net_return}\\nExpected return: {expected_return}\\n---------------\\n')\n",
    "print(f'\\nExpected Annual Return: {expected_annual_return}')"
   ]
  },
  {
   "cell_type": "code",
   "execution_count": 9,
   "id": "064e3682",
   "metadata": {},
   "outputs": [
    {
     "name": "stdout",
     "output_type": "stream",
     "text": [
      "5% completed ...\n",
      "10% completed ...\n",
      "16% completed ...\n",
      "21% completed ...\n",
      "27% completed ...\n",
      "32% completed ...\n",
      "37% completed ...\n",
      "43% completed ...\n",
      "48% completed ...\n",
      "54% completed ...\n",
      "59% completed ...\n",
      "64% completed ...\n",
      "70% completed ...\n",
      "75% completed ...\n",
      "81% completed ...\n",
      "86% completed ...\n",
      "92% completed ...\n",
      "97% completed ...\n",
      "Finished\n"
     ]
    }
   ],
   "source": [
    "# Apply strategy\n",
    "summary = pd.DataFrame(columns = ['Ticker', 'SR_10d', 'Return_10d', 'SR_1m', 'Return_1m'])\n",
    "n_stocks = len(ticker_dict)\n",
    "counter = 0\n",
    "for ticker, df in ticker_dict.items():\n",
    "    counter += 1\n",
    "    if counter % 1000 == 0:\n",
    "        print(f'{int(counter/n_stocks*100)}% completed ...')\n",
    "    if df.shape[0]<2:\n",
    "        continue\n",
    "    df['Date'] = pd.to_datetime(df['Date'])\n",
    "    (ten_day_return, ten_day_SR) = last_ten_days(df, 0)\n",
    "    (one_month_return, one_month_SR) = return_stat(df, 1, 1)\n",
    "#     (one_month_return_recent, one_month_SR_recent) = one_month_recent_stat(df)\n",
    "    summary.loc[summary.shape[0]] = [ticker, ten_day_SR, ten_day_return, one_month_SR,  \\\n",
    "                                     one_month_return]\n",
    "print('Finished')"
   ]
  },
  {
   "cell_type": "code",
   "execution_count": 10,
   "id": "7a783cac",
   "metadata": {
    "scrolled": true
   },
   "outputs": [
    {
     "name": "stdout",
     "output_type": "stream",
     "text": [
      "      Ticker      SR_10d  Return_10d     SR_1m  Return_1m\n",
      "12979  PSTNY  126.491106   36.666667  3.962782   0.985222\n",
      "6849   GLAPY    3.986040   34.815251  5.337317  34.815251\n",
      "13577    RGF   84.745366   29.487179  0.448755   0.198413\n",
      "12663   PMTS    6.838525   25.689498  8.300233  22.352937\n",
      "11586   NVEI    7.638705   22.479612  3.397347   7.718804\n",
      "9548    LCFY   21.270861   22.473246 -7.901137  -9.728309\n",
      "13149    PYR  274.168249   21.783439 -3.876368  -0.416667\n",
      "2986   CFNCF    2.918288   18.584626  4.562661  18.584626\n",
      "14907   SOBR   88.200408   18.562874 -5.401341  -1.980198\n",
      "16278   TSLI   10.624209   17.791742  9.170647  13.068241\n",
      "14271     SE    2.301614   17.538798  1.272128   7.461593\n",
      "76      ABEO   55.656852   17.467249  1.510035   0.373134\n",
      "10335   MGLD  132.383578   16.666667  5.188327   0.574713\n",
      "13517   RERE  108.243714   16.064257  8.624183   2.120141\n",
      "1939    BITI    9.228260   15.737701  7.599295  12.739532\n",
      "753     AMEN    0.662750   15.044248  0.593525  23.809524\n",
      "17250    VXX    4.621199   14.666378  5.482421   13.48628\n",
      "16127   TPIC   17.182990   14.619377  2.407326    2.00154\n",
      "7741   HPGLY    2.510081   14.030069  2.654744  19.549721\n",
      "1752   BDVSY    8.308400   12.684243   8.34203   9.251595\n",
      "10936   MYGN    9.937782   12.209302  7.552726  12.566272\n",
      "1983   BKHYY    6.338021   11.875000  2.608358   4.800934\n",
      "6721   GENSF    5.914884   11.604506 -0.424006  -0.776413\n",
      "4600   DSHKN   44.378698   11.538462  2.233988   0.694444\n",
      "17179    VST    5.338320   11.505230  5.038115   7.261588\n",
      "10595   MNTV   37.813420   11.449275 -7.320855  -3.026482\n",
      "4477   DNOPY    3.645295   11.358020 -2.412517  -7.581969\n",
      "7428     HCI    5.960983   10.799996  7.894152  20.409846\n",
      "2568   BWVTF    2.875971   10.361206  4.180795  10.361206\n",
      "8521   IPOAF   24.867074   10.084034  2.821644   1.080247\n"
     ]
    }
   ],
   "source": [
    "analysis = summary.dropna().sort_values('Return_10d', ascending = False)\n",
    "filt = (analysis['SR_1m'].abs() <= 10.0) & (analysis['SR_1m'].abs() > 0.0) & (analysis['Return_10d'] > 0) \n",
    "filtered_df = analysis.loc[filt]\n",
    "# print(filtered_df.head(100))\n",
    "list_of_indices = list(filtered_df.index)\n",
    "sampled_list = sample(list_of_indices[:100], k = 30)\n",
    "sampled_stock_list = filtered_df.loc[sampled_list].sort_values('Return_10d', ascending = False)\n",
    "print(sampled_stock_list)"
   ]
  },
  {
   "cell_type": "code",
   "execution_count": 24,
   "id": "668cc6e3",
   "metadata": {},
   "outputs": [
    {
     "name": "stdout",
     "output_type": "stream",
     "text": [
      "      Ticker      SR_10d  Return_10d     SR_1m  Return_1m\n",
      "6774   GECFF    2.936858   62.114545  4.180579  62.114545\n",
      "5783   FCODF    0.185471   56.402737  0.227896  56.402737\n",
      "15395   SSOK   87.326841   52.307692 -1.862743       -1.0\n",
      "16382  TRPCF    7.663310   52.267251  9.416222  52.267251\n",
      "9941   LPRRF    2.314068   35.102035  3.467887  35.102035\n",
      "7995   HVRRF    1.540093   33.208824  2.307999  33.208824\n",
      "17486  WBTMU    3.334981   32.352941  4.997837  32.352941\n",
      "7713   HLAGF    1.186827   32.272727  1.908563       45.5\n",
      "3899    CTLT    3.766070   30.690947  4.872651  41.498185\n",
      "17276  VOYJF    7.439646   30.193808  8.160329  30.193808\n",
      "7846   HPGLY    2.305758   28.650359  3.541051  38.363367\n",
      "17092  VGPBF    2.818564   27.967681  4.224219  27.967681\n",
      "13984    RPD    6.953648   26.561325  5.755211   44.70892\n",
      "5737     FBL    4.534121   26.006292  6.328517  48.389393\n",
      "12663  PIEJF    4.917903   25.882358  7.027495  29.926644\n",
      "5116     ELF    4.275962   24.830577  5.743325  46.016249\n",
      "14912   SMCI    4.908213   24.457341  3.549101   19.05832\n",
      "11250   NEWR    3.848007   23.603604  5.250042  32.362746\n",
      "2948    CELC   23.636272   23.277662   9.11688   6.588448\n",
      "9223     KAL   17.188462   22.720000  9.682125   9.964158\n",
      "12166    OSH    5.389494   21.610465   7.19178   19.79661\n",
      "1043    ARCB    2.631576   21.222298  3.417703  30.260107\n",
      "1821   BESVF    3.789118   21.136178  5.678411  21.136178\n",
      "15492   STNG    5.528363   20.304995  4.223675    14.8126\n",
      "5206    EMMS   89.567205   20.000000 -6.871116       -2.5\n",
      "4169    DBIN    7.579622   19.708029  8.344328  19.013059\n",
      "10427  MFGHF    4.988553   19.305345   7.10181  19.305345\n",
      "10397  MEQYF    2.193463   18.995394  3.122367  18.995394\n",
      "304       AE    4.962750   18.687708   5.76749  22.463672\n",
      "857     ANEB  111.142274   18.627451  4.109319   0.833333\n",
      "5400   ERMAF    2.105659   18.605821  2.779155  23.705414\n",
      "15009   SNEX    2.852359   18.297682  2.617544  12.644921\n",
      "5354   EQGPF    4.625588   18.246310  6.684618   22.40574\n",
      "6700    GCCO    0.132177   18.163403  0.162869  18.163403\n",
      "1544     AYX    5.846280   17.985220  7.556627  30.029799\n",
      "17581   WFRD    3.781571   17.580865   7.47029   27.39047\n",
      "10579  MKEWF   13.850416   17.543855  9.376776  17.543855\n",
      "14822   SLAB    1.888850   17.468614  1.473993   22.69188\n",
      "1632   BATRB    5.333333   17.333333  7.689857  25.714286\n",
      "15487  STMNF    6.070534   17.015935  7.476638  17.015935\n",
      "3089    CHBH    4.734940   16.981132  3.466274   10.91234\n",
      "638     ALGN    0.561298   16.953983  0.808108  34.719844\n",
      "10406   META    1.088018   16.902727  1.468345  31.048232\n",
      "11572  NSARO    2.332362   16.618076  2.573235  16.198004\n",
      "9846   LKNCY    9.728917   16.216225  7.634118  18.835038\n",
      "16363   TRMD    9.956842   16.076290  7.486504  13.427154\n",
      "18216    ZSL   11.077059   16.038708  9.575793  12.933603\n",
      "9552   KTWIF    4.941932   15.863597  7.034777  15.863597\n",
      "14398  SCXLB   26.170574   15.862069 -3.199595  -1.754386\n",
      "4454   DKSHF    3.985652   15.424473  6.231455  15.424473\n",
      "10808   MPWR    0.632557   15.346022  0.687417  23.819109\n",
      "11425   NMTR   76.284160   14.851485  9.881273   1.754386\n",
      "9994     LSI    2.103770   14.619583  2.427505  20.123197\n",
      "11382  NLLSY    4.599973   14.523327  7.382771  15.886695\n",
      "16183  TMNSF    3.228199   14.480181  5.043831  28.621847\n",
      "6406    FSGB   21.428571   14.285714 -6.357306 -14.666667\n",
      "3789    CRUS    2.385456   14.094368   2.95308    23.0667\n",
      "12030     ON    3.692133   14.091227   3.94614  29.661159\n",
      "14425  SDMHF    0.699924   14.016859  0.800876  15.105181\n",
      "16938   UVIX   11.277114   13.982601 -7.610154 -14.314928\n"
     ]
    }
   ],
   "source": [
    "print(filtered_df.head(60))"
   ]
  },
  {
   "cell_type": "code",
   "execution_count": 27,
   "id": "79719692",
   "metadata": {},
   "outputs": [
    {
     "data": {
      "text/plain": [
       "155.79961464354528"
      ]
     },
     "execution_count": 27,
     "metadata": {},
     "output_type": "execute_result"
    }
   ],
   "source": [
    "ticker_dict['GLAPY'].iloc[:-20]['Volume'].mean()"
   ]
  },
  {
   "cell_type": "code",
   "execution_count": null,
   "id": "ad68dc6f",
   "metadata": {},
   "outputs": [],
   "source": []
  }
 ],
 "metadata": {
  "kernelspec": {
   "display_name": "myenv",
   "language": "python",
   "name": "myenv"
  },
  "language_info": {
   "codemirror_mode": {
    "name": "ipython",
    "version": 3
   },
   "file_extension": ".py",
   "mimetype": "text/x-python",
   "name": "python",
   "nbconvert_exporter": "python",
   "pygments_lexer": "ipython3",
   "version": "3.9.16"
  }
 },
 "nbformat": 4,
 "nbformat_minor": 5
}
