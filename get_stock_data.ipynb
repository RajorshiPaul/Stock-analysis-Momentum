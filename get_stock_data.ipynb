{
 "cells": [
  {
   "cell_type": "code",
   "execution_count": 1,
   "id": "e6c592d8",
   "metadata": {},
   "outputs": [],
   "source": [
    "from bs4 import BeautifulSoup\n",
    "import requests\n",
    "import time\n",
    "from IPython.display import clear_output\n",
    "\n",
    "r = requests.get('https://scanner.tradingview.com/america/scan')\n",
    "soup = BeautifulSoup(r.text, 'lxml')\n",
    "\n",
    "ticker_list = soup.p.text\n",
    "\n",
    "ticker_list = ticker_list.split('\"s\":')\n",
    "ticker_list = [x.split(',')[0].lstrip('\"').rstrip('\"') for x in ticker_list[1:]]\n",
    "ticker_list = [x.split(':')[1] for x in ticker_list]\n",
    "ticker_list = sorted(ticker_list)\n",
    "ticker_list = [x.replace('/','-') for x in ticker_list]"
   ]
  },
  {
   "cell_type": "code",
   "execution_count": 5,
   "id": "0cddb81c",
   "metadata": {},
   "outputs": [
    {
     "name": "stdout",
     "output_type": "stream",
     "text": [
      "40% completed ...\n",
      "Writing ZICX\n",
      "Finished ...\n"
     ]
    }
   ],
   "source": [
    "#Download stock price data for the first time\n",
    "n_stocks = len(ticker_list)\n",
    "for counter, ticker in enumerate(ticker_list[10990:]):\n",
    "    if counter % 200 == 0:\n",
    "        clear_output(wait = True)\n",
    "        print(f'{int(counter/n_stocks*100)}% completed ...')\n",
    "        print(f'Writing {ticker}')\n",
    "    url = f'https://query1.finance.yahoo.com/v7/finance/download/{ticker}?period1=1&period2=10000000000&interval=1d&events=history'\n",
    "#     params = {\n",
    "#         'range' : 'max',\n",
    "#         'interval' : '1d',\n",
    "#         'events' : 'history',\n",
    "#         'includeAdjustedClose' : 'true'\n",
    "#     }\n",
    "    filename = f'Stock data/{ticker}.csv'\n",
    "    header = {\n",
    "            'user-agent': 'Mozilla/5.0 (Windows NT 10.0; Win64; x64) AppleWebKit/537.36 (KHTML, like Gecko) Chrome/107.0.0.0 Safari/537.36'\n",
    "        }\n",
    "    with requests.get(url, headers = header) as rq:\n",
    "        with open(filename, 'wb') as f:\n",
    "            f.write(rq.content)\n",
    "    time.sleep(0.25)\n",
    "print('Finished ...')"
   ]
  }
 ],
 "metadata": {
  "kernelspec": {
   "display_name": "Python 3 (ipykernel)",
   "language": "python",
   "name": "python3"
  },
  "language_info": {
   "codemirror_mode": {
    "name": "ipython",
    "version": 3
   },
   "file_extension": ".py",
   "mimetype": "text/x-python",
   "name": "python",
   "nbconvert_exporter": "python",
   "pygments_lexer": "ipython3",
   "version": "3.9.13"
  }
 },
 "nbformat": 4,
 "nbformat_minor": 5
}
